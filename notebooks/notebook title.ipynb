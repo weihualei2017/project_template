{
 "cells": [
  {
   "cell_type": "markdown",
   "id": "32dabb6a-6066-4dd7-903f-aa9ae40879df",
   "metadata": {},
   "source": [
    "# Title"
   ]
  },
  {
   "cell_type": "markdown",
   "id": "4eaa5eda-f7d0-449a-8c84-4291c6f7d9a2",
   "metadata": {},
   "source": [
    "## Packages"
   ]
  },
  {
   "cell_type": "code",
   "execution_count": 1,
   "id": "1199b0e9-8cb9-443e-ac00-bcf505be17dc",
   "metadata": {},
   "outputs": [
    {
     "data": {
      "text/html": [
       "<style>.container { width:90% !important; }</style>"
      ],
      "text/plain": [
       "<IPython.core.display.HTML object>"
      ]
     },
     "metadata": {},
     "output_type": "display_data"
    }
   ],
   "source": [
    "from IPython.core.display import display, HTML\n",
    "display(HTML(\"<style>.container { width:90% !important; }</style>\"))\n",
    "\n",
    "import warnings\n",
    "warnings.filterwarnings(\"ignore\")"
   ]
  },
  {
   "cell_type": "code",
   "execution_count": 2,
   "id": "34517a2c-e138-4fa3-aced-cc94f6a0f8bc",
   "metadata": {},
   "outputs": [
    {
     "name": "stdout",
     "output_type": "stream",
     "text": [
      "INFO:tensorflow:Enabling eager execution\n",
      "INFO:tensorflow:Enabling v2 tensorshape\n",
      "INFO:tensorflow:Enabling resource variables\n",
      "INFO:tensorflow:Enabling tensor equality\n",
      "INFO:tensorflow:Enabling control flow v2\n"
     ]
    }
   ],
   "source": [
    "import sys\n",
    "sys.path.insert(0, '..')\n",
    "from scripts.plot_style import *\n",
    "\n",
    "stdrcparams() # personal plot style\n",
    "figsize=stdfigsize(ratio=-1)\n",
    "xs,ys=stdfigsize(ratio=-1)\n",
    "%load_ext autoreload\n",
    "%autoreload 2"
   ]
  },
  {
   "cell_type": "markdown",
   "id": "d3d1dbb0-e654-4eac-a0ad-68bd1a27eb06",
   "metadata": {},
   "source": [
    "## Functions"
   ]
  },
  {
   "cell_type": "markdown",
   "id": "d3e58b17-ebde-4311-937f-cacad2a786af",
   "metadata": {},
   "source": [
    "### data functions"
   ]
  },
  {
   "cell_type": "markdown",
   "id": "efad80b4-7f2e-4a12-a49b-998d14e7949a",
   "metadata": {},
   "source": [
    "### analysis functions"
   ]
  },
  {
   "cell_type": "markdown",
   "id": "84d28a9f-32ba-437d-80be-7b813fb4dbfe",
   "metadata": {},
   "source": [
    "### visulization functions"
   ]
  },
  {
   "cell_type": "markdown",
   "id": "76578cd2-1e14-4361-9d0a-304a90710d42",
   "metadata": {},
   "source": [
    "### other functions"
   ]
  },
  {
   "cell_type": "code",
   "execution_count": null,
   "id": "26e14f4b-65ff-4513-a904-98aba4569be8",
   "metadata": {},
   "outputs": [],
   "source": []
  }
 ],
 "metadata": {
  "kernelspec": {
   "display_name": "Python 3",
   "language": "python",
   "name": "python3"
  },
  "language_info": {
   "codemirror_mode": {
    "name": "ipython",
    "version": 3
   },
   "file_extension": ".py",
   "mimetype": "text/x-python",
   "name": "python",
   "nbconvert_exporter": "python",
   "pygments_lexer": "ipython3",
   "version": "3.9.4"
  },
  "toc-autonumbering": true
 },
 "nbformat": 4,
 "nbformat_minor": 5
}
